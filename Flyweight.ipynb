{
  "nbformat": 4,
  "nbformat_minor": 0,
  "metadata": {
    "colab": {
      "provenance": [],
      "authorship_tag": "ABX9TyMq6oCRpbhcfuPViOCC7pR7"
    },
    "kernelspec": {
      "name": "python3",
      "display_name": "Python 3"
    },
    "language_info": {
      "name": "python"
    }
  },
  "cells": [
    {
      "cell_type": "code",
      "execution_count": 1,
      "metadata": {
        "id": "BiwjtENKGB4o"
      },
      "outputs": [],
      "source": [
        "import json\n",
        "from typing import Dict"
      ]
    },
    {
      "cell_type": "code",
      "source": [
        "class Flyweight():\n",
        "    \"\"\"\n",
        "    El Flyweight almacena una porción común del estado (también llamado estado intrínseco)\n",
        "    que pertenece a múltiples entidades de negocio reales. El Flyweight\n",
        "    acepta el resto del estado (estado extrínseco, único para cada entidad) a través\n",
        "    de los parámetros de su método.\n",
        "    \"\"\"\n",
        "\n",
        "    def __init__(self, shared_state: str) -> None:\n",
        "        self._shared_state = shared_state\n",
        "\n",
        "    def operation(self, unique_state: str) -> None:\n",
        "        s = json.dumps(self._shared_state)\n",
        "        u = json.dumps(unique_state)\n",
        "        print(f\"Flyweight: Estado intrínseco ({s}) y Estado extrínseco ({u})\", end=\"\")\n",
        ""
      ],
      "metadata": {
        "id": "sDYZvnsrGNvz"
      },
      "execution_count": 13,
      "outputs": []
    },
    {
      "cell_type": "code",
      "source": [
        "class FlyweightFactory():\n",
        "    \"\"\"\n",
        "    La fábrica de Flyweight crea y gestiona los objetos Flyweight. Se asegura\n",
        "    de que los flyweights se compartan correctamente. Cuando el cliente solicita un flyweight,\n",
        "    la fábrica devuelve una instancia existente o crea una nueva si no existe aún.\n",
        "    \"\"\"\n",
        "\n",
        "    _flyweights: Dict[str, Flyweight] = {}\n",
        "\n",
        "    def __init__(self, initial_flyweights: Dict) -> None:\n",
        "        for state in initial_flyweights:\n",
        "            self._flyweights[self.get_key(state)] = Flyweight(state)\n",
        "\n",
        "    def get_key(self, state: Dict) -> str:\n",
        "        \"\"\"\n",
        "        Devuelve una clave hash en forma de cadena para un estado dado.\n",
        "        \"\"\"\n",
        "        return \"_\".join(sorted(state))\n",
        "\n",
        "    def get_flyweight(self, shared_state: Dict) -> Flyweight:\n",
        "        \"\"\"\n",
        "        Devuelve un Flyweight existente con un estado dado o crea uno nuevo.\n",
        "        \"\"\"\n",
        "        key = self.get_key(shared_state)\n",
        "\n",
        "        if not self._flyweights.get(key):\n",
        "            print(\"FlyweightFactory: No se encontró un flyweight, creando uno nuevo.\")\n",
        "            self._flyweights[key] = Flyweight(shared_state)\n",
        "        else:\n",
        "            print(\"FlyweightFactory: Reutilizando un flyweight existente.\")\n",
        "\n",
        "        return self._flyweights[key]\n",
        "\n",
        "    def list_flyweights(self) -> None:\n",
        "        count = len(self._flyweights)\n",
        "        print(f\"FlyweightFactory: Tengo {count} flyweights:\")\n",
        "        print(\"\\n\".join(map(str, self._flyweights.keys())), end=\"\")\n",
        "\n",
        "\n",
        "def add_car_to_database(\n",
        "    factory: FlyweightFactory, plates: str, owner: str,\n",
        "    brand: str, model: str, color: str\n",
        ") -> None:\n",
        "    print(\"\\n\\nCliente: Agregando un auto a la base de datos.\")\n",
        "    flyweight = factory.get_flyweight([brand, model, color])\n",
        "    # El código del cliente almacena o calcula el estado extrínseco y se lo pasa\n",
        "    # a los métodos del flyweight.\n",
        "    flyweight.operation([plates, owner])\n",
        "\n",
        "\n",
        "if __name__ == \"__main__\":\n",
        "    \"\"\"\n",
        "    El código del cliente usualmente crea varios flyweights pre-poblados en la\n",
        "    etapa de inicialización de la aplicación.\n",
        "    \"\"\"\n",
        "\n",
        "    factory = FlyweightFactory([\n",
        "        [\"Chevrolet\", \"Camaro2018\", \"pink\"],\n",
        "        [\"Mercedes Benz\", \"C300\", \"black\"],\n",
        "        [\"Mercedes Benz\", \"C500\", \"red\"],\n",
        "        [\"BMW\", \"M5\", \"red\"],\n",
        "        [\"BMW\", \"X6\", \"white\"],\n",
        "    ])\n",
        "\n",
        "    factory.list_flyweights()\n",
        "\n",
        "    add_car_to_database(\n",
        "        factory, \"AWR662\", \"Laura Camila\", \"BMW\", \"M5\", \"red\")\n",
        "\n",
        "    add_car_to_database(\n",
        "        factory, \"KJX007\", \"Oscar Ortega\", \"BMW\", \"X1\", \"red\")\n",
        "\n",
        "    print(\"\\n\")\n",
        "\n",
        "    factory.list_flyweights()\n"
      ],
      "metadata": {
        "id": "zeLdlY41EkOZ",
        "outputId": "54f65d78-33f8-4a0e-f48c-43065ddcb85f",
        "colab": {
          "base_uri": "https://localhost:8080/"
        }
      },
      "execution_count": 19,
      "outputs": [
        {
          "output_type": "stream",
          "name": "stdout",
          "text": [
            "FlyweightFactory: Tengo 5 flyweights:\n",
            "Camaro2018_Chevrolet_pink\n",
            "C300_Mercedes Benz_black\n",
            "C500_Mercedes Benz_red\n",
            "BMW_M5_red\n",
            "BMW_X6_white\n",
            "\n",
            "Cliente: Agregando un auto a la base de datos.\n",
            "FlyweightFactory: Reutilizando un flyweight existente.\n",
            "Flyweight: Estado intrínseco ([\"BMW\", \"M5\", \"red\"]) y Estado extrínseco ([\"AWR662\", \"Laura Camila\"])\n",
            "\n",
            "Cliente: Agregando un auto a la base de datos.\n",
            "FlyweightFactory: No se encontró un flyweight, creando uno nuevo.\n",
            "Flyweight: Estado intrínseco ([\"BMW\", \"X1\", \"red\"]) y Estado extrínseco ([\"KJX007\", \"Oscar Ortega\"])\n",
            "\n",
            "FlyweightFactory: Tengo 6 flyweights:\n",
            "Camaro2018_Chevrolet_pink\n",
            "C300_Mercedes Benz_black\n",
            "C500_Mercedes Benz_red\n",
            "BMW_M5_red\n",
            "BMW_X6_white\n",
            "BMW_X1_red"
          ]
        }
      ]
    }
  ]
}